{
 "cells": [
  {
   "cell_type": "code",
   "execution_count": 146,
   "metadata": {},
   "outputs": [],
   "source": [
    "from PIL import Image\n",
    "import os\n",
    "import requests\n",
    "import json\n",
    "import pandas as pd\n",
    "import numpy as np\n",
    "import re\n",
    "from IPython.display import clear_output"
   ]
  },
  {
   "cell_type": "markdown",
   "metadata": {},
   "source": [
    "## Resize Images"
   ]
  },
  {
   "cell_type": "code",
   "execution_count": 115,
   "metadata": {},
   "outputs": [],
   "source": [
    "book_dict = json.load(open('book_dict_links.json'))"
   ]
  },
  {
   "cell_type": "code",
   "execution_count": 139,
   "metadata": {},
   "outputs": [],
   "source": [
    "def resize_image(image_path, save_path=os.curdir, height=200):\n",
    "    #open image\n",
    "    img = Image.open(image_path)\n",
    "\n",
    "    #get current size and aspect ratio\n",
    "    w, h = img.size\n",
    "    ratio = w/h\n",
    "\n",
    "    #get file name\n",
    "    file_name = os.path.basename(image_path)\n",
    "    reg = re.compile(\n",
    "        r\"[a-zA-Z]{3,}[^_.]\"\n",
    "    )\n",
    "    file = \"\".join(reg.findall(string=file_name))\n",
    "    file+=f\" {height}px.png\"\n",
    "    \n",
    "    #resize image\n",
    "    img_resized = img.resize((np.int(height*ratio), height), Image.ANTIALIAS)\n",
    "\n",
    "    #Get path to save image and make the path if it doesn't exist\n",
    "    path = os.path.join(save_path, 'img', str(height))\n",
    "    if not os.path.exists(path):\n",
    "        os.makedirs(path)\n",
    "\n",
    "    #save image\n",
    "    print(\"Saving the resized image: \"+ file)\n",
    "    save_path = os.path.join(path, file)\n",
    "    img_resized.save(save_path)"
   ]
  },
  {
   "cell_type": "code",
   "execution_count": 150,
   "metadata": {},
   "outputs": [],
   "source": [
    "image_path = r\"C:\\Users\\harik\\Desktop\\hari31416.github.io\\Projects\\Book_Library\\Python\\img\\400\\The Name the Wind 400px.png\""
   ]
  },
  {
   "cell_type": "code",
   "execution_count": 151,
   "metadata": {},
   "outputs": [
    {
     "name": "stdout",
     "output_type": "stream",
     "text": [
      "Saving the resized image: The Name the Wind  200px.png\n",
      "Saving the resized image: The Name the Wind  300px.png\n",
      "Saving the resized image: The Name the Wind  400px.png\n"
     ]
    }
   ],
   "source": [
    "resize_image(image_path, height=200)\n",
    "resize_image(image_path, height=300)\n",
    "resize_image(image_path, height=400)"
   ]
  },
  {
   "cell_type": "code",
   "execution_count": 141,
   "metadata": {},
   "outputs": [
    {
     "data": {
      "text/plain": [
       "(223, 400)"
      ]
     },
     "execution_count": 141,
     "metadata": {},
     "output_type": "execute_result"
    }
   ],
   "source": [
    "Image.open(r\"C:\\Users\\harik\\Desktop\\hari31416.github.io\\Projects\\Book_Library\\Python\\img\\400\\Dune 400px.png\").size"
   ]
  },
  {
   "cell_type": "code",
   "execution_count": 101,
   "metadata": {},
   "outputs": [
    {
     "name": "stdout",
     "output_type": "stream",
     "text": [
      "c:\\Users\\harik\\Desktop\\hari31416.github.io\\Projects\\Book_Library\\Python\\img\\high\n"
     ]
    }
   ],
   "source": [
    "cd high"
   ]
  },
  {
   "cell_type": "code",
   "execution_count": 103,
   "metadata": {},
   "outputs": [
    {
     "name": "stdout",
     "output_type": "stream",
     "text": [
      "c:\\Users\\harik\\Desktop\\hari31416.github.io\\Projects\\Book_Library\\Python\n"
     ]
    }
   ],
   "source": [
    "cd c:\\Users\\harik\\Desktop\\hari31416.github.io\\Projects\\Book_Library\\Python"
   ]
  },
  {
   "cell_type": "code",
   "execution_count": 152,
   "metadata": {},
   "outputs": [
    {
     "name": "stdout",
     "output_type": "stream",
     "text": [
      "(223, 400)\n",
      "Dune 400px.png\n",
      "(259, 400)\n",
      "Harry Potter and the Prisoner Azkaban 400px.png\n",
      "(258, 400)\n",
      "Pride and Prejudice 400px.png\n",
      "(2013, 2560)\n",
      "The Eye the World 400px.png\n",
      "(265, 400)\n",
      "The Name the Wind  400px.png\n",
      "(1696, 2560)\n",
      "The Name the Wind 400px.png\n"
     ]
    }
   ],
   "source": [
    "for img in os.listdir(r\"C:\\Users\\harik\\Desktop\\hari31416.github.io\\Projects\\Book_Library\\Python\\img\\400\"):\n",
    "    img_path = os.path.join(r\"C:\\Users\\harik\\Desktop\\hari31416.github.io\\Projects\\Book_Library\\Python\\img\\400\", img)\n",
    "    print(Image.open(img_path).size)\n",
    "    print(img)"
   ]
  },
  {
   "cell_type": "code",
   "execution_count": null,
   "metadata": {},
   "outputs": [],
   "source": []
  }
 ],
 "metadata": {
  "interpreter": {
   "hash": "ce44b17c45080b8f56a19c9450d52461d624c968fcd959bb1916985c5ffa2b94"
  },
  "kernelspec": {
   "display_name": "Python 3.8.5 64-bit ('base': conda)",
   "language": "python",
   "name": "python3"
  },
  "language_info": {
   "codemirror_mode": {
    "name": "ipython",
    "version": 3
   },
   "file_extension": ".py",
   "mimetype": "text/x-python",
   "name": "python",
   "nbconvert_exporter": "python",
   "pygments_lexer": "ipython3",
   "version": "3.8.5"
  },
  "orig_nbformat": 4
 },
 "nbformat": 4,
 "nbformat_minor": 2
}
