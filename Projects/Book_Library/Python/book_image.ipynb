{
 "cells": [
  {
   "cell_type": "code",
   "execution_count": 168,
   "metadata": {},
   "outputs": [],
   "source": [
    "import webdriver_manager\n",
    "from selenium.webdriver.common.by import By\n",
    "from selenium.webdriver.common.keys import Keys\n",
    "from selenium import webdriver\n",
    "from webdriver_manager.chrome import ChromeDriverManager\n",
    "from webdriver_manager.firefox import GeckoDriverManager\n",
    "from IPython.display import clear_output\n",
    "import time\n",
    "import pandas as pd\n",
    "import requests\n",
    "from PIL import Image\n",
    "from io import BytesIO"
   ]
  },
  {
   "cell_type": "code",
   "execution_count": 202,
   "metadata": {},
   "outputs": [
    {
     "name": "stderr",
     "output_type": "stream",
     "text": [
      "\n",
      "\n",
      "====== WebDriver manager ======\n",
      "Current google-chrome version is 96.0.4664\n",
      "Get LATEST chromedriver version for 96.0.4664 google-chrome\n",
      "Driver [C:\\Users\\harik\\.wdm\\drivers\\chromedriver\\win32\\96.0.4664.45\\chromedriver.exe] found in cache\n",
      "<ipython-input-202-a9184be2b85f>:2: DeprecationWarning: executable_path has been deprecated, please pass in a Service object\n",
      "  driver = webdriver.Chrome(ChromeDriverManager().install())\n"
     ]
    }
   ],
   "source": [
    "#Open ChromeDriver\n",
    "driver = webdriver.Chrome(ChromeDriverManager().install())\n",
    "# driver.get(\"https://www.amazon.in/s?k=Dune&i=stripbooks\")"
   ]
  },
  {
   "cell_type": "markdown",
   "metadata": {},
   "source": [
    "## Low and High Resolution Book Image"
   ]
  },
  {
   "cell_type": "code",
   "execution_count": 201,
   "metadata": {},
   "outputs": [],
   "source": [
    "def download_image_low(book_name, author=\"\", num_images=5):\n",
    "    query = book_name + \" \" + author\n",
    "    page_url = f\"https://www.amazon.in/s?k={query.strip()}&i=stripbooks\"\n",
    "    print(\"Searching for:\", query)\n",
    "    driver.get(page_url)\n",
    "    print(\"Done!\")\n",
    "    items = driver.find_elements(By.CLASS_NAME, \"s-result-item\")\n",
    "    images = driver.find_elements(By.CLASS_NAME, \"s-image\")\n",
    "\n",
    "    i=0\n",
    "    match = 0\n",
    "    while True:\n",
    "        if \"Sponsored\" in items[i].text or not book_name.lower() in items[i].text.lower():\n",
    "            i+=1\n",
    "            pass\n",
    "        else:\n",
    "            match+=1\n",
    "            link1 = images[i-1].get_attribute(\"src\")\n",
    "            print(\"link1:\", link1)\n",
    "            images[i-1].click()\n",
    "            driver.switch_to.window(driver.window_handles[-1])\n",
    "            time.sleep(1)\n",
    "            driver.find_elements(By.CLASS_NAME, \"thumb-text\")[0].click()\n",
    "            link2 = driver.find_elements(By.ID, \"igImage\")[0].get_attribute(\"src\")\n",
    "            print(\"link2:\", link2)\n",
    "            print(\"Closing the Extra Window\")\n",
    "            driver.close()\n",
    "            print(\"Switching to the Main Window\")\n",
    "            driver.switch_to.window(driver.window_handles[0])\n",
    "\n",
    "            #Save images using link\n",
    "            response = requests.get(link1)\n",
    "            img = Image.open(BytesIO(response.content))\n",
    "            w, h = img.size\n",
    "            print(f\"Image shape is {w}x{h}\")\n",
    "            img.save(f\"{book_name}_{match}_{w}x{h}.jpg\")\n",
    "\n",
    "            #Higher resolution\n",
    "            response = requests.get(link2)\n",
    "            img2 = Image.open(BytesIO(response.content))\n",
    "            w, h = img2.size\n",
    "            print(f\"Image shape of higher resultion is {w}x{h}\")\n",
    "            img2.save(f\"high_{book_name}_{match}_{w}x{h}.jpg\")\n",
    "            i+=1\n",
    "        if match==5 or i==10:\n",
    "            break"
   ]
  },
  {
   "cell_type": "code",
   "execution_count": 203,
   "metadata": {},
   "outputs": [
    {
     "name": "stdout",
     "output_type": "stream",
     "text": [
      "Searching for: The Martian Andy Weir\n",
      "Done!\n",
      "link1: https://m.media-amazon.com/images/I/91pw0THBwBL._AC_UY218_.jpg\n",
      "link2: https://images-na.ssl-images-amazon.com/images/I/91pw0THBwBL.jpg\n",
      "Closing the Extra Window\n",
      "Switching to the Main Window\n",
      "Image shape is 138x218\n",
      "Image shape of higher resultion is 1475x2326\n",
      "link1: https://m.media-amazon.com/images/I/91vD1AcmV-L._AC_UY218_.jpg\n",
      "link2: https://images-na.ssl-images-amazon.com/images/I/91vD1AcmV-L.jpg\n",
      "Closing the Extra Window\n",
      "Switching to the Main Window\n",
      "Image shape is 143x218\n",
      "Image shape of higher resultion is 1685x2560\n",
      "link1: https://m.media-amazon.com/images/I/91kt8ZYG64L._AC_UY218_.jpg\n",
      "link2: https://images-na.ssl-images-amazon.com/images/I/91kt8ZYG64L.jpg\n",
      "Closing the Extra Window\n",
      "Switching to the Main Window\n",
      "Image shape is 142x218\n",
      "Image shape of higher resultion is 1561x2403\n",
      "link1: https://m.media-amazon.com/images/I/41pnmr-Zj6L._AC_UY218_.jpg\n",
      "link2: https://images-na.ssl-images-amazon.com/images/I/41pnmr-Zj6L.jpg\n",
      "Closing the Extra Window\n",
      "Switching to the Main Window\n",
      "Image shape is 141x218\n",
      "Image shape of higher resultion is 323x500\n",
      "link1: https://m.media-amazon.com/images/I/91Aw5WJruhL._AC_UY218_.jpg\n",
      "link2: https://images-na.ssl-images-amazon.com/images/I/91Aw5WJruhL.jpg\n",
      "Closing the Extra Window\n",
      "Switching to the Main Window\n",
      "Image shape is 142x218\n",
      "Image shape of higher resultion is 1665x2560\n"
     ]
    }
   ],
   "source": [
    "download_image_low(\"The Martian\", \"Andy Weir\", num_images=5)"
   ]
  },
  {
   "cell_type": "markdown",
   "metadata": {},
   "source": [
    "## Other Features"
   ]
  },
  {
   "cell_type": "code",
   "execution_count": 204,
   "metadata": {},
   "outputs": [],
   "source": [
    "driver.switch_to.window(driver.window_handles[-1])"
   ]
  },
  {
   "cell_type": "code",
   "execution_count": 207,
   "metadata": {},
   "outputs": [
    {
     "name": "stdout",
     "output_type": "stream",
     "text": [
      "Product details\n",
      "Publisher : Ballantine Books; Illustrated edition (11 February 2014)\n",
      "Language : English\n",
      "Hardcover : 384 pages\n",
      "ISBN-10 : 0804139024\n",
      "ISBN-13 : 978-0804139021\n",
      "Item Weight : 581 g\n",
      "Dimensions : 16.43 x 3.28 x 23.88 cm\n",
      "Best Sellers Rank: #111,513 in Books (See Top 100 in Books)\n",
      "#1,947 in Science Fiction (Books)\n",
      "#2,188 in Thrillers and Suspense\n",
      "#3,306 in Action & Adventure (Books)\n",
      "Customer Reviews:\n",
      "38,474 ratings\n"
     ]
    }
   ],
   "source": [
    "print(driver.find_elements(By.ID, \"detailBullets_feature_div\")[0].text)"
   ]
  },
  {
   "cell_type": "code",
   "execution_count": 209,
   "metadata": {},
   "outputs": [
    {
     "data": {
      "text/plain": [
       "['Product details',\n",
       " 'Publisher : Ballantine Books; Illustrated edition (11 February 2014)',\n",
       " 'Language : English',\n",
       " 'Hardcover : 384 pages',\n",
       " 'ISBN-10 : 0804139024',\n",
       " 'ISBN-13 : 978-0804139021',\n",
       " 'Item Weight : 581 g',\n",
       " 'Dimensions : 16.43 x 3.28 x 23.88 cm',\n",
       " 'Best Sellers Rank: #111,513 in Books (See Top 100 in Books)',\n",
       " '#1,947 in Science Fiction (Books)',\n",
       " '#2,188 in Thrillers and Suspense',\n",
       " '#3,306 in Action & Adventure (Books)',\n",
       " 'Customer Reviews:',\n",
       " '38,474 ratings']"
      ]
     },
     "execution_count": 209,
     "metadata": {},
     "output_type": "execute_result"
    }
   ],
   "source": [
    "driver.find_elements(By.ID, \"detailBullets_feature_div\")[0].text.split(\"\\n\")"
   ]
  },
  {
   "cell_type": "markdown",
   "metadata": {},
   "source": []
  }
 ],
 "metadata": {
  "interpreter": {
   "hash": "ce44b17c45080b8f56a19c9450d52461d624c968fcd959bb1916985c5ffa2b94"
  },
  "kernelspec": {
   "display_name": "Python 3.8.5 64-bit ('base': conda)",
   "language": "python",
   "name": "python3"
  },
  "language_info": {
   "codemirror_mode": {
    "name": "ipython",
    "version": 3
   },
   "file_extension": ".py",
   "mimetype": "text/x-python",
   "name": "python",
   "nbconvert_exporter": "python",
   "pygments_lexer": "ipython3",
   "version": "3.8.5"
  },
  "orig_nbformat": 4
 },
 "nbformat": 4,
 "nbformat_minor": 2
}
