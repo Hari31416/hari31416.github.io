{
 "cells": [
  {
   "cell_type": "code",
   "execution_count": 8,
   "metadata": {},
   "outputs": [],
   "source": [
    "import webdriver_manager\n",
    "from selenium.webdriver.common.by import By\n",
    "from selenium.webdriver.common.keys import Keys\n",
    "from selenium import webdriver\n",
    "from webdriver_manager.chrome import ChromeDriverManager\n",
    "from webdriver_manager.firefox import GeckoDriverManager\n",
    "from IPython.display import clear_output\n",
    "import time\n",
    "import pandas as pd\n",
    "import requests\n",
    "from PIL import Image\n",
    "from io import BytesIO\n",
    "import os\n",
    "import json\n",
    "import vlc"
   ]
  },
  {
   "cell_type": "code",
   "execution_count": 32,
   "metadata": {},
   "outputs": [
    {
     "name": "stderr",
     "output_type": "stream",
     "text": [
      "\n",
      "\n",
      "====== WebDriver manager ======\n",
      "Current google-chrome version is 96.0.4664\n",
      "Get LATEST chromedriver version for 96.0.4664 google-chrome\n",
      "Driver [C:\\Users\\harik\\.wdm\\drivers\\chromedriver\\win32\\96.0.4664.45\\chromedriver.exe] found in cache\n",
      "<ipython-input-32-a9184be2b85f>:2: DeprecationWarning: executable_path has been deprecated, please pass in a Service object\n",
      "  driver = webdriver.Chrome(ChromeDriverManager().install())\n"
     ]
    }
   ],
   "source": [
    "#Open ChromeDriver\n",
    "driver = webdriver.Chrome(ChromeDriverManager().install())\n",
    "# driver.get(\"https://www.amazon.in/s?k=Dune&i=stripbooks\")"
   ]
  },
  {
   "cell_type": "markdown",
   "metadata": {},
   "source": [
    "## Low and High Resolution Book Image"
   ]
  },
  {
   "cell_type": "code",
   "execution_count": 4,
   "metadata": {},
   "outputs": [],
   "source": [
    "def download_image(book_name, author=\"\", num_images=5):\n",
    "    \n",
    "    query = book_name + \" \" + author\n",
    "    page_url = f\"https://www.amazon.in/s?k={query.strip()}&i=stripbooks\"\n",
    "    print(\"Searching for:\", query)\n",
    "    driver.get(page_url)\n",
    "    print(\"Done!\")\n",
    "    items = driver.find_elements(By.CLASS_NAME, \"s-result-item\")\n",
    "    images = driver.find_elements(By.CLASS_NAME, \"s-image\")\n",
    "\n",
    "\n",
    "    i=0\n",
    "    match = 0\n",
    "    while True:\n",
    "        if \"Sponsored\" in items[i].text or not book_name.lower() in items[i].text.lower():\n",
    "            i+=1\n",
    "            pass\n",
    "        else:\n",
    "            match+=1\n",
    "            link1 = images[i-1].get_attribute(\"src\")\n",
    "            print(\"link1:\", link1)\n",
    "            images[i-1].click()\n",
    "            driver.switch_to.window(driver.window_handles[-1])\n",
    "            # time.sleep(1)\n",
    "            try:\n",
    "                driver.find_elements(By.CLASS_NAME, \"thumb-text\")[0].click()\n",
    "                link2 = driver.find_elements(By.ID, \"igImage\")[0].get_attribute(\"src\")\n",
    "                print(\"link2:\", link2)\n",
    "                print(\"Closing the Extra Window\")\n",
    "                driver.close()\n",
    "                print(\"Switching to the Main Window\")\n",
    "                driver.switch_to.window(driver.window_handles[0])\n",
    "            except:\n",
    "                print(\"Closing the Extra Window\")\n",
    "                driver.close()\n",
    "                print(\"Switching to the Main Window\")\n",
    "                driver.switch_to.window(driver.window_handles[0])\n",
    "                \n",
    "            #Save images using link\n",
    "            response = requests.get(link1)\n",
    "            img = Image.open(BytesIO(response.content))\n",
    "            w, h = img.size\n",
    "            print(f\"Image shape is {w}x{h}\")\n",
    "            img_path = os.path.join(os.getcwd(), \"img\")\n",
    "            file_name_low = f\"{book_name}_{match}_{w}x{h}.jpg\"\n",
    "            img.save(os.path.join(img_path, \"low\", file_name_low))\n",
    "\n",
    "            #Higher resolution\n",
    "            response = requests.get(link2)\n",
    "            img2 = Image.open(BytesIO(response.content))\n",
    "            w, h = img2.size\n",
    "            print(f\"Image shape of higher resultion is {w}x{h}\")\n",
    "            file_name_high = f\"h_{book_name}_{match}_{w}x{h}.jpg\"\n",
    "            img2.save(os.path.join(img_path, \"high\", file_name_high))\n",
    "            i+=1\n",
    "            clear_output()\n",
    "        if match==num_images or i==10:\n",
    "            break\n",
    "    "
   ]
  },
  {
   "cell_type": "code",
   "execution_count": 5,
   "metadata": {},
   "outputs": [],
   "source": [
    "book_dict= json.load(open(\"book_dict.json\"))"
   ]
  },
  {
   "cell_type": "code",
   "execution_count": 10,
   "metadata": {},
   "outputs": [],
   "source": [
    "p.stop()"
   ]
  },
  {
   "cell_type": "code",
   "execution_count": 7,
   "metadata": {},
   "outputs": [],
   "source": [
    "download_image(\"Rhythm of War\", \"Sanderson\", num_images=3)\n"
   ]
  },
  {
   "cell_type": "code",
   "execution_count": 84,
   "metadata": {},
   "outputs": [],
   "source": [
    "book_dict = {}"
   ]
  },
  {
   "cell_type": "code",
   "execution_count": 85,
   "metadata": {},
   "outputs": [],
   "source": [
    "book_dict['items'] = []"
   ]
  },
  {
   "cell_type": "code",
   "execution_count": 86,
   "metadata": {},
   "outputs": [],
   "source": [
    "json.dump(book_dict, open(\"book_dict_links.json\", \"w\"))"
   ]
  },
  {
   "cell_type": "code",
   "execution_count": 82,
   "metadata": {},
   "outputs": [],
   "source": [
    "book_dict['items'].append({\"Emma\":{\n",
    "    \"author\": \"Jane Austen\",\n",
    "}})"
   ]
  },
  {
   "cell_type": "code",
   "execution_count": 83,
   "metadata": {},
   "outputs": [
    {
     "data": {
      "text/plain": [
       "{'items': [{'Emma': {'author': 'Jane Austen'}}]}"
      ]
     },
     "execution_count": 83,
     "metadata": {},
     "output_type": "execute_result"
    }
   ],
   "source": [
    "book_dict"
   ]
  },
  {
   "cell_type": "code",
   "execution_count": 41,
   "metadata": {},
   "outputs": [],
   "source": [
    "def download_image(book_name, author=\"\", num_images=3):\n",
    "    \n",
    "    query = book_name + \" \" + author.split(\" \")[-1]\n",
    "    page_url = f\"https://www.amazon.in/s?k={query.strip()}&i=stripbooks\"\n",
    "    print(\"Searching for:\", query)\n",
    "    driver.get(page_url)\n",
    "    print(\"Done!\")\n",
    "    items = driver.find_elements(By.CLASS_NAME, \"s-result-item\")\n",
    "    images = driver.find_elements(By.CLASS_NAME, \"s-image\")\n",
    "\n",
    "    low_links = []\n",
    "    high_links = []\n",
    "    low_file_paths = []\n",
    "    high_file_paths = []\n",
    "    i=0\n",
    "    match = 0\n",
    "    while True:\n",
    "        if \"Sponsored\" in items[i].text or not book_name.lower() in items[i].text.lower():\n",
    "            i+=1\n",
    "            pass\n",
    "        else:\n",
    "            match+=1\n",
    "            link1 = images[i-1].get_attribute(\"src\")\n",
    "            low_links.append(link1)\n",
    "            print(\"link1:\", link1)\n",
    "            images[i-1].click()\n",
    "            driver.switch_to.window(driver.window_handles[-1])\n",
    "            # time.sleep(1)\n",
    "            link2 = \"\"\n",
    "            try:\n",
    "                driver.find_elements(By.CLASS_NAME, \"thumb-text\")[0].click()\n",
    "                link2 = driver.find_elements(By.ID, \"igImage\")[0].get_attribute(\"src\")\n",
    "                high_links.append(link2)\n",
    "                print(\"link2:\", link2)\n",
    "                print(\"Closing the Extra Window\")\n",
    "                driver.close()\n",
    "                print(\"Switching to the Main Window\")\n",
    "                driver.switch_to.window(driver.window_handles[0])\n",
    "            except:\n",
    "                high_links.append(None)\n",
    "                print(\"Closing the Extra Window\")\n",
    "                driver.close()\n",
    "                print(\"Switching to the Main Window\")\n",
    "                driver.switch_to.window(driver.window_handles[0])\n",
    "\n",
    "            if link1:   \n",
    "                #Save images using link\n",
    "                response = requests.get(link1)\n",
    "                img = Image.open(BytesIO(response.content))\n",
    "                w, h = img.size\n",
    "                print(f\"Image shape is {w}x{h}\")\n",
    "                img_path = os.path.join(os.getcwd(), \"img\")\n",
    "                file_name_low = f\"{book_name}_{match}_{w}x{h}.jpg\"\n",
    "                file_path_low = os.path.join(img_path, \"low\", file_name_low)\n",
    "                low_file_paths.append(file_path_low)\n",
    "                img.save(file_path_low)\n",
    "\n",
    "            if link2:\n",
    "                #Higher resolution\n",
    "                response = requests.get(link2)\n",
    "                img2 = Image.open(BytesIO(response.content))\n",
    "                w, h = img2.size\n",
    "                print(f\"Image shape of higher resultion is {w}x{h}\")\n",
    "                file_name_high = f\"h_{book_name}_{match}_{w}x{h}.jpg\"\n",
    "                file_path_high = os.path.join(img_path, \"high\", file_name_high)\n",
    "                high_file_paths.append(file_path_high)\n",
    "                img2.save(file_path_high)\n",
    "            i+=1\n",
    "            clear_output()\n",
    "        if match==num_images or i==10:\n",
    "            break\n",
    "    book_dict = json.load(open(\"book_dict_links.json\"))\n",
    "    book_dict['items'].append({\n",
    "    \"name\":book_name,\n",
    "    \"author\": author,\n",
    "    \"low_links\": low_links,\n",
    "    \"high_links\": high_links,\n",
    "    \"low_file_paths\": low_file_paths,\n",
    "    \"high_file_paths\": high_file_paths,\n",
    "                    })\n",
    "    json.dump(book_dict, open(\"book_dict_links.json\", \"w\"))\n"
   ]
  },
  {
   "cell_type": "code",
   "execution_count": 43,
   "metadata": {},
   "outputs": [
    {
     "name": "stdout",
     "output_type": "stream",
     "text": [
      "Har ry Potter and the Philosopher's Stone\n"
     ]
    }
   ],
   "source": [
    "for i in range(39,40):\n",
    "    name = book_dict['items'][i]['name'].split('(')[0].strip()\n",
    "    print(name)"
   ]
  },
  {
   "cell_type": "code",
   "execution_count": 44,
   "metadata": {},
   "outputs": [],
   "source": [
    "df = pd.read_csv(\"books_info.csv\")"
   ]
  },
  {
   "cell_type": "code",
   "execution_count": 56,
   "metadata": {},
   "outputs": [
    {
     "data": {
      "text/plain": [
       "'Cytonic'"
      ]
     },
     "execution_count": 56,
     "metadata": {},
     "output_type": "execute_result"
    }
   ],
   "source": [
    "book = df[df['Author']==\"Brandon Sanderson\"]['Title']\n",
    "book.iloc[0].split('(')[0].strip()"
   ]
  },
  {
   "cell_type": "code",
   "execution_count": 57,
   "metadata": {},
   "outputs": [
    {
     "name": "stdout",
     "output_type": "stream",
     "text": [
      "47 Done!\n",
      "0 left\n"
     ]
    }
   ],
   "source": [
    "book = df[df['Author']==\"Brandon Sanderson\"]['Title']\n",
    "author = 'Brandon Sanderson'\n",
    "print(\"Total:\" + str(len(book)))\n",
    "try:\n",
    "    for i in range(len(book)):\n",
    "        name = book.iloc[i].split('(')[0].strip()\n",
    "        download_image(name, author, num_images=3)\n",
    "        print(f\"{str(i+1)} Done!\\n{str(len(book)-i-1)} left\")\n",
    "except Exception as e:\n",
    "    print(i)\n",
    "    p = vlc.MediaPlayer(r'C:\\Users\\harik\\Music\\My Media\\notification\\the_tardis.mp3')\n",
    "    p.play()\n",
    "    print(e.with_traceback())"
   ]
  },
  {
   "cell_type": "code",
   "execution_count": 40,
   "metadata": {},
   "outputs": [
    {
     "ename": "NameError",
     "evalue": "name 'link2' is not defined",
     "output_type": "error",
     "traceback": [
      "\u001b[1;31m---------------------------------------------------------------------------\u001b[0m",
      "\u001b[1;31mNameError\u001b[0m                                 Traceback (most recent call last)",
      "\u001b[1;32m<ipython-input-40-a0d5234e627a>\u001b[0m in \u001b[0;36m<module>\u001b[1;34m\u001b[0m\n\u001b[1;32m----> 1\u001b[1;33m \u001b[0mlink2\u001b[0m\u001b[1;33m\u001b[0m\u001b[1;33m\u001b[0m\u001b[0m\n\u001b[0m",
      "\u001b[1;31mNameError\u001b[0m: name 'link2' is not defined"
     ]
    }
   ],
   "source": [
    "link2"
   ]
  },
  {
   "cell_type": "code",
   "execution_count": 9,
   "metadata": {},
   "outputs": [],
   "source": [
    "books = ['Dune', 'Pride and Prejudice', 'The Eye of the World', 'The Name of the Wind', 'Harry Potter and the Prisoner of Azkaban']\n",
    "authors = ['Frank Herbert', 'Jane Austen', 'Robert Jordan', 'Patrick Rothfuss', 'J.K. Rowling']\n",
    "map(download_image, books, authors)\n",
    "for book, author in list(zip(books, authors)):\n",
    "    download_image(book, author, num_images=3)"
   ]
  },
  {
   "cell_type": "code",
   "execution_count": 31,
   "metadata": {},
   "outputs": [
    {
     "ename": "TypeError",
     "evalue": "with_traceback() takes exactly one argument (0 given)",
     "output_type": "error",
     "traceback": [
      "\u001b[1;31m---------------------------------------------------------------------------\u001b[0m",
      "\u001b[1;31mZeroDivisionError\u001b[0m                         Traceback (most recent call last)",
      "\u001b[1;32m<ipython-input-31-c0e85529d2d9>\u001b[0m in \u001b[0;36m<module>\u001b[1;34m\u001b[0m\n\u001b[0;32m      1\u001b[0m \u001b[1;32mtry\u001b[0m\u001b[1;33m:\u001b[0m\u001b[1;33m\u001b[0m\u001b[1;33m\u001b[0m\u001b[0m\n\u001b[1;32m----> 2\u001b[1;33m     \u001b[1;36m1\u001b[0m\u001b[1;33m/\u001b[0m\u001b[1;36m0\u001b[0m\u001b[1;33m\u001b[0m\u001b[1;33m\u001b[0m\u001b[0m\n\u001b[0m\u001b[0;32m      3\u001b[0m \u001b[1;32mexcept\u001b[0m \u001b[0mException\u001b[0m \u001b[1;32mas\u001b[0m \u001b[0me\u001b[0m\u001b[1;33m:\u001b[0m\u001b[1;33m\u001b[0m\u001b[1;33m\u001b[0m\u001b[0m\n",
      "\u001b[1;31mZeroDivisionError\u001b[0m: division by zero",
      "\nDuring handling of the above exception, another exception occurred:\n",
      "\u001b[1;31mTypeError\u001b[0m                                 Traceback (most recent call last)",
      "\u001b[1;32m<ipython-input-31-c0e85529d2d9>\u001b[0m in \u001b[0;36m<module>\u001b[1;34m\u001b[0m\n\u001b[0;32m      2\u001b[0m     \u001b[1;36m1\u001b[0m\u001b[1;33m/\u001b[0m\u001b[1;36m0\u001b[0m\u001b[1;33m\u001b[0m\u001b[1;33m\u001b[0m\u001b[0m\n\u001b[0;32m      3\u001b[0m \u001b[1;32mexcept\u001b[0m \u001b[0mException\u001b[0m \u001b[1;32mas\u001b[0m \u001b[0me\u001b[0m\u001b[1;33m:\u001b[0m\u001b[1;33m\u001b[0m\u001b[1;33m\u001b[0m\u001b[0m\n\u001b[1;32m----> 4\u001b[1;33m     \u001b[0mprint\u001b[0m\u001b[1;33m(\u001b[0m\u001b[0me\u001b[0m\u001b[1;33m.\u001b[0m\u001b[0mwith_traceback\u001b[0m\u001b[1;33m(\u001b[0m\u001b[1;33m)\u001b[0m\u001b[1;33m)\u001b[0m\u001b[1;33m\u001b[0m\u001b[1;33m\u001b[0m\u001b[0m\n\u001b[0m",
      "\u001b[1;31mTypeError\u001b[0m: with_traceback() takes exactly one argument (0 given)"
     ]
    }
   ],
   "source": [
    "try:\n",
    "    1/0\n",
    "except Exception as e:\n",
    "    print(e.with_traceback())"
   ]
  },
  {
   "cell_type": "code",
   "execution_count": 27,
   "metadata": {},
   "outputs": [
    {
     "name": "stdout",
     "output_type": "stream",
     "text": [
      "link1: https://m.media-amazon.com/images/I/41uH4+3DNjL._AC_UY218_.jpg\n",
      "Closing the Extra Window\n",
      "Switching to the Main Window\n",
      "link1: https://m.media-amazon.com/images/I/41uH4+3DNjL._AC_UY218_.jpg\n",
      "Closing the Extra Window\n",
      "Switching to the Main Window\n",
      "link1: https://m.media-amazon.com/images/I/41uH4+3DNjL._AC_UY218_.jpg\n",
      "Closing the Extra Window\n",
      "Switching to the Main Window\n",
      "link1: https://m.media-amazon.com/images/I/41uH4+3DNjL._AC_UY218_.jpg\n",
      "Closing the Extra Window\n",
      "Switching to the Main Window\n",
      "link1: https://m.media-amazon.com/images/I/41uH4+3DNjL._AC_UY218_.jpg\n",
      "Closing the Extra Window\n",
      "Switching to the Main Window\n",
      "link1: https://m.media-amazon.com/images/I/41uH4+3DNjL._AC_UY218_.jpg\n",
      "Closing the Extra Window\n",
      "Switching to the Main Window\n",
      "link1: https://m.media-amazon.com/images/I/41uH4+3DNjL._AC_UY218_.jpg\n",
      "Closing the Extra Window\n",
      "Switching to the Main Window\n",
      "link1: https://m.media-amazon.com/images/I/41uH4+3DNjL._AC_UY218_.jpg\n",
      "Closing the Extra Window\n",
      "Switching to the Main Window\n",
      "link1: https://m.media-amazon.com/images/I/41uH4+3DNjL._AC_UY218_.jpg\n",
      "Closing the Extra Window\n",
      "Switching to the Main Window\n",
      "link1: https://m.media-amazon.com/images/I/41uH4+3DNjL._AC_UY218_.jpg\n",
      "Closing the Extra Window\n",
      "Switching to the Main Window\n",
      "link1: https://m.media-amazon.com/images/I/41uH4+3DNjL._AC_UY218_.jpg\n",
      "Closing the Extra Window\n",
      "Switching to the Main Window\n",
      "link1: https://m.media-amazon.com/images/I/41uH4+3DNjL._AC_UY218_.jpg\n",
      "Closing the Extra Window\n"
     ]
    },
    {
     "ename": "NoSuchWindowException",
     "evalue": "Message: no such window: target window already closed\nfrom unknown error: web view not found\n  (Session info: chrome=96.0.4664.45)\nStacktrace:\nBacktrace:\n\tOrdinal0 [0x005C6903+2517251]\n\tOrdinal0 [0x0055F8E1+2095329]\n\tOrdinal0 [0x00462848+1058888]\n\tOrdinal0 [0x0044BF90+966544]\n\tOrdinal0 [0x004A8999+1345945]\n\tOrdinal0 [0x004AC1D6+1360342]\n\tOrdinal0 [0x004A64A7+1336487]\n\tOrdinal0 [0x004827A7+1189799]\n\tOrdinal0 [0x00483609+1193481]\n\tGetHandleVerifier [0x00755904+1577972]\n\tGetHandleVerifier [0x00800B97+2279047]\n\tGetHandleVerifier [0x00656D09+534521]\n\tGetHandleVerifier [0x00655DB9+530601]\n\tOrdinal0 [0x00564FF9+2117625]\n\tOrdinal0 [0x005698A8+2136232]\n\tOrdinal0 [0x005699E2+2136546]\n\tOrdinal0 [0x00573541+2176321]\n\tBaseThreadInitThunk [0x75E66739+25]\n\tRtlGetFullPathName_UEx [0x77CF8AFF+1215]\n\tRtlGetFullPathName_UEx [0x77CF8ACD+1165]\n",
     "output_type": "error",
     "traceback": [
      "\u001b[1;31m---------------------------------------------------------------------------\u001b[0m",
      "\u001b[1;31mWebDriverException\u001b[0m                        Traceback (most recent call last)",
      "\u001b[1;32m<ipython-input-27-66d4c88b7dd4>\u001b[0m in \u001b[0;36m<module>\u001b[1;34m\u001b[0m\n\u001b[0;32m     22\u001b[0m         \u001b[1;32mtry\u001b[0m\u001b[1;33m:\u001b[0m\u001b[1;33m\u001b[0m\u001b[1;33m\u001b[0m\u001b[0m\n\u001b[1;32m---> 23\u001b[1;33m             \u001b[0mdriver\u001b[0m\u001b[1;33m.\u001b[0m\u001b[0mfind_elements\u001b[0m\u001b[1;33m(\u001b[0m\u001b[0mBy\u001b[0m\u001b[1;33m.\u001b[0m\u001b[0mCLASS_NAME\u001b[0m\u001b[1;33m,\u001b[0m \u001b[1;34m\"thumb-text\"\u001b[0m\u001b[1;33m)\u001b[0m\u001b[1;33m[\u001b[0m\u001b[1;36m0\u001b[0m\u001b[1;33m]\u001b[0m\u001b[1;33m.\u001b[0m\u001b[0mclick\u001b[0m\u001b[1;33m(\u001b[0m\u001b[1;33m)\u001b[0m\u001b[1;33m\u001b[0m\u001b[1;33m\u001b[0m\u001b[0m\n\u001b[0m\u001b[0;32m     24\u001b[0m             \u001b[0mlink2\u001b[0m \u001b[1;33m=\u001b[0m \u001b[0mdriver\u001b[0m\u001b[1;33m.\u001b[0m\u001b[0mfind_elements\u001b[0m\u001b[1;33m(\u001b[0m\u001b[0mBy\u001b[0m\u001b[1;33m.\u001b[0m\u001b[0mID\u001b[0m\u001b[1;33m,\u001b[0m \u001b[1;34m\"igImage\"\u001b[0m\u001b[1;33m)\u001b[0m\u001b[1;33m[\u001b[0m\u001b[1;36m0\u001b[0m\u001b[1;33m]\u001b[0m\u001b[1;33m.\u001b[0m\u001b[0mget_attribute\u001b[0m\u001b[1;33m(\u001b[0m\u001b[1;34m\"src\"\u001b[0m\u001b[1;33m)\u001b[0m\u001b[1;33m\u001b[0m\u001b[1;33m\u001b[0m\u001b[0m\n",
      "\u001b[1;32m~\\anaconda3\\lib\\site-packages\\selenium\\webdriver\\remote\\webdriver.py\u001b[0m in \u001b[0;36mfind_elements\u001b[1;34m(self, by, value)\u001b[0m\n\u001b[0;32m   1272\u001b[0m         \u001b[1;31m# See https://github.com/SeleniumHQ/selenium/issues/4555\u001b[0m\u001b[1;33m\u001b[0m\u001b[1;33m\u001b[0m\u001b[1;33m\u001b[0m\u001b[0m\n\u001b[1;32m-> 1273\u001b[1;33m         return self.execute(Command.FIND_ELEMENTS, {\n\u001b[0m\u001b[0;32m   1274\u001b[0m             \u001b[1;34m'using'\u001b[0m\u001b[1;33m:\u001b[0m \u001b[0mby\u001b[0m\u001b[1;33m,\u001b[0m\u001b[1;33m\u001b[0m\u001b[1;33m\u001b[0m\u001b[0m\n",
      "\u001b[1;32m~\\anaconda3\\lib\\site-packages\\selenium\\webdriver\\remote\\webdriver.py\u001b[0m in \u001b[0;36mexecute\u001b[1;34m(self, driver_command, params)\u001b[0m\n\u001b[0;32m    417\u001b[0m         \u001b[1;32mif\u001b[0m \u001b[0mresponse\u001b[0m\u001b[1;33m:\u001b[0m\u001b[1;33m\u001b[0m\u001b[1;33m\u001b[0m\u001b[0m\n\u001b[1;32m--> 418\u001b[1;33m             \u001b[0mself\u001b[0m\u001b[1;33m.\u001b[0m\u001b[0merror_handler\u001b[0m\u001b[1;33m.\u001b[0m\u001b[0mcheck_response\u001b[0m\u001b[1;33m(\u001b[0m\u001b[0mresponse\u001b[0m\u001b[1;33m)\u001b[0m\u001b[1;33m\u001b[0m\u001b[1;33m\u001b[0m\u001b[0m\n\u001b[0m\u001b[0;32m    419\u001b[0m             response['value'] = self._unwrap_value(\n",
      "\u001b[1;32m~\\anaconda3\\lib\\site-packages\\selenium\\webdriver\\remote\\errorhandler.py\u001b[0m in \u001b[0;36mcheck_response\u001b[1;34m(self, response)\u001b[0m\n\u001b[0;32m    242\u001b[0m             \u001b[1;32mraise\u001b[0m \u001b[0mexception_class\u001b[0m\u001b[1;33m(\u001b[0m\u001b[0mmessage\u001b[0m\u001b[1;33m,\u001b[0m \u001b[0mscreen\u001b[0m\u001b[1;33m,\u001b[0m \u001b[0mstacktrace\u001b[0m\u001b[1;33m,\u001b[0m \u001b[0malert_text\u001b[0m\u001b[1;33m)\u001b[0m  \u001b[1;31m# type: ignore[call-arg]  # mypy is not smart enough here\u001b[0m\u001b[1;33m\u001b[0m\u001b[1;33m\u001b[0m\u001b[0m\n\u001b[1;32m--> 243\u001b[1;33m         \u001b[1;32mraise\u001b[0m \u001b[0mexception_class\u001b[0m\u001b[1;33m(\u001b[0m\u001b[0mmessage\u001b[0m\u001b[1;33m,\u001b[0m \u001b[0mscreen\u001b[0m\u001b[1;33m,\u001b[0m \u001b[0mstacktrace\u001b[0m\u001b[1;33m)\u001b[0m\u001b[1;33m\u001b[0m\u001b[1;33m\u001b[0m\u001b[0m\n\u001b[0m\u001b[0;32m    244\u001b[0m \u001b[1;33m\u001b[0m\u001b[0m\n",
      "\u001b[1;31mWebDriverException\u001b[0m: Message: unknown error: cannot determine loading status\nfrom disconnected: received Inspector.detached event\n  (Session info: chrome=96.0.4664.45)\nStacktrace:\nBacktrace:\n\tOrdinal0 [0x005C6903+2517251]\n\tOrdinal0 [0x0055F8E1+2095329]\n\tOrdinal0 [0x00462848+1058888]\n\tOrdinal0 [0x00455AD4+1006292]\n\tOrdinal0 [0x00455716+1005334]\n\tOrdinal0 [0x00454DDA+1002970]\n\tOrdinal0 [0x00453F8D+999309]\n\tOrdinal0 [0x00454357+1000279]\n\tOrdinal0 [0x0045E1C1+1040833]\n\tOrdinal0 [0x00468249+1081929]\n\tOrdinal0 [0x0046A90B+1091851]\n\tOrdinal0 [0x00454635+1001013]\n\tOrdinal0 [0x00467ED8+1081048]\n\tOrdinal0 [0x004B5AAF+1399471]\n\tOrdinal0 [0x004A639B+1336219]\n\tOrdinal0 [0x004827A7+1189799]\n\tOrdinal0 [0x00483609+1193481]\n\tGetHandleVerifier [0x00755904+1577972]\n\tGetHandleVerifier [0x00800B97+2279047]\n\tGetHandleVerifier [0x00656D09+534521]\n\tGetHandleVerifier [0x00655DB9+530601]\n\tOrdinal0 [0x00564FF9+2117625]\n\tOrdinal0 [0x005698A8+2136232]\n\tOrdinal0 [0x005699E2+2136546]\n\tOrdinal0 [0x00573541+2176321]\n\tBaseThreadInitThunk [0x75E66739+25]\n\tRtlGetFullPathName_UEx [0x77CF8AFF+1215]\n\tRtlGetFullPathName_UEx [0x77CF8ACD+1165]\n",
      "\nDuring handling of the above exception, another exception occurred:\n",
      "\u001b[1;31mNoSuchWindowException\u001b[0m                     Traceback (most recent call last)",
      "\u001b[1;32m<ipython-input-27-66d4c88b7dd4>\u001b[0m in \u001b[0;36m<module>\u001b[1;34m\u001b[0m\n\u001b[0;32m     32\u001b[0m             \u001b[0mhigh_links\u001b[0m\u001b[1;33m.\u001b[0m\u001b[0mappend\u001b[0m\u001b[1;33m(\u001b[0m\u001b[1;32mNone\u001b[0m\u001b[1;33m)\u001b[0m\u001b[1;33m\u001b[0m\u001b[1;33m\u001b[0m\u001b[0m\n\u001b[0;32m     33\u001b[0m             \u001b[0mprint\u001b[0m\u001b[1;33m(\u001b[0m\u001b[1;34m\"Closing the Extra Window\"\u001b[0m\u001b[1;33m)\u001b[0m\u001b[1;33m\u001b[0m\u001b[1;33m\u001b[0m\u001b[0m\n\u001b[1;32m---> 34\u001b[1;33m             \u001b[0mdriver\u001b[0m\u001b[1;33m.\u001b[0m\u001b[0mclose\u001b[0m\u001b[1;33m(\u001b[0m\u001b[1;33m)\u001b[0m\u001b[1;33m\u001b[0m\u001b[1;33m\u001b[0m\u001b[0m\n\u001b[0m\u001b[0;32m     35\u001b[0m             \u001b[0mprint\u001b[0m\u001b[1;33m(\u001b[0m\u001b[1;34m\"Switching to the Main Window\"\u001b[0m\u001b[1;33m)\u001b[0m\u001b[1;33m\u001b[0m\u001b[1;33m\u001b[0m\u001b[0m\n\u001b[0;32m     36\u001b[0m             \u001b[0mdriver\u001b[0m\u001b[1;33m.\u001b[0m\u001b[0mswitch_to\u001b[0m\u001b[1;33m.\u001b[0m\u001b[0mwindow\u001b[0m\u001b[1;33m(\u001b[0m\u001b[0mdriver\u001b[0m\u001b[1;33m.\u001b[0m\u001b[0mwindow_handles\u001b[0m\u001b[1;33m[\u001b[0m\u001b[1;36m0\u001b[0m\u001b[1;33m]\u001b[0m\u001b[1;33m)\u001b[0m\u001b[1;33m\u001b[0m\u001b[1;33m\u001b[0m\u001b[0m\n",
      "\u001b[1;32m~\\anaconda3\\lib\\site-packages\\selenium\\webdriver\\remote\\webdriver.py\u001b[0m in \u001b[0;36mclose\u001b[1;34m(self)\u001b[0m\n\u001b[0;32m    929\u001b[0m                 \u001b[0mdriver\u001b[0m\u001b[1;33m.\u001b[0m\u001b[0mclose\u001b[0m\u001b[1;33m(\u001b[0m\u001b[1;33m)\u001b[0m\u001b[1;33m\u001b[0m\u001b[1;33m\u001b[0m\u001b[0m\n\u001b[0;32m    930\u001b[0m         \"\"\"\n\u001b[1;32m--> 931\u001b[1;33m         \u001b[0mself\u001b[0m\u001b[1;33m.\u001b[0m\u001b[0mexecute\u001b[0m\u001b[1;33m(\u001b[0m\u001b[0mCommand\u001b[0m\u001b[1;33m.\u001b[0m\u001b[0mCLOSE\u001b[0m\u001b[1;33m)\u001b[0m\u001b[1;33m\u001b[0m\u001b[1;33m\u001b[0m\u001b[0m\n\u001b[0m\u001b[0;32m    932\u001b[0m \u001b[1;33m\u001b[0m\u001b[0m\n\u001b[0;32m    933\u001b[0m     \u001b[1;32mdef\u001b[0m \u001b[0mquit\u001b[0m\u001b[1;33m(\u001b[0m\u001b[0mself\u001b[0m\u001b[1;33m)\u001b[0m \u001b[1;33m->\u001b[0m \u001b[1;32mNone\u001b[0m\u001b[1;33m:\u001b[0m\u001b[1;33m\u001b[0m\u001b[1;33m\u001b[0m\u001b[0m\n",
      "\u001b[1;32m~\\anaconda3\\lib\\site-packages\\selenium\\webdriver\\remote\\webdriver.py\u001b[0m in \u001b[0;36mexecute\u001b[1;34m(self, driver_command, params)\u001b[0m\n\u001b[0;32m    416\u001b[0m         \u001b[0mresponse\u001b[0m \u001b[1;33m=\u001b[0m \u001b[0mself\u001b[0m\u001b[1;33m.\u001b[0m\u001b[0mcommand_executor\u001b[0m\u001b[1;33m.\u001b[0m\u001b[0mexecute\u001b[0m\u001b[1;33m(\u001b[0m\u001b[0mdriver_command\u001b[0m\u001b[1;33m,\u001b[0m \u001b[0mparams\u001b[0m\u001b[1;33m)\u001b[0m\u001b[1;33m\u001b[0m\u001b[1;33m\u001b[0m\u001b[0m\n\u001b[0;32m    417\u001b[0m         \u001b[1;32mif\u001b[0m \u001b[0mresponse\u001b[0m\u001b[1;33m:\u001b[0m\u001b[1;33m\u001b[0m\u001b[1;33m\u001b[0m\u001b[0m\n\u001b[1;32m--> 418\u001b[1;33m             \u001b[0mself\u001b[0m\u001b[1;33m.\u001b[0m\u001b[0merror_handler\u001b[0m\u001b[1;33m.\u001b[0m\u001b[0mcheck_response\u001b[0m\u001b[1;33m(\u001b[0m\u001b[0mresponse\u001b[0m\u001b[1;33m)\u001b[0m\u001b[1;33m\u001b[0m\u001b[1;33m\u001b[0m\u001b[0m\n\u001b[0m\u001b[0;32m    419\u001b[0m             response['value'] = self._unwrap_value(\n\u001b[0;32m    420\u001b[0m                 response.get('value', None))\n",
      "\u001b[1;32m~\\anaconda3\\lib\\site-packages\\selenium\\webdriver\\remote\\errorhandler.py\u001b[0m in \u001b[0;36mcheck_response\u001b[1;34m(self, response)\u001b[0m\n\u001b[0;32m    241\u001b[0m                 \u001b[0malert_text\u001b[0m \u001b[1;33m=\u001b[0m \u001b[0mvalue\u001b[0m\u001b[1;33m[\u001b[0m\u001b[1;34m'alert'\u001b[0m\u001b[1;33m]\u001b[0m\u001b[1;33m.\u001b[0m\u001b[0mget\u001b[0m\u001b[1;33m(\u001b[0m\u001b[1;34m'text'\u001b[0m\u001b[1;33m)\u001b[0m\u001b[1;33m\u001b[0m\u001b[1;33m\u001b[0m\u001b[0m\n\u001b[0;32m    242\u001b[0m             \u001b[1;32mraise\u001b[0m \u001b[0mexception_class\u001b[0m\u001b[1;33m(\u001b[0m\u001b[0mmessage\u001b[0m\u001b[1;33m,\u001b[0m \u001b[0mscreen\u001b[0m\u001b[1;33m,\u001b[0m \u001b[0mstacktrace\u001b[0m\u001b[1;33m,\u001b[0m \u001b[0malert_text\u001b[0m\u001b[1;33m)\u001b[0m  \u001b[1;31m# type: ignore[call-arg]  # mypy is not smart enough here\u001b[0m\u001b[1;33m\u001b[0m\u001b[1;33m\u001b[0m\u001b[0m\n\u001b[1;32m--> 243\u001b[1;33m         \u001b[1;32mraise\u001b[0m \u001b[0mexception_class\u001b[0m\u001b[1;33m(\u001b[0m\u001b[0mmessage\u001b[0m\u001b[1;33m,\u001b[0m \u001b[0mscreen\u001b[0m\u001b[1;33m,\u001b[0m \u001b[0mstacktrace\u001b[0m\u001b[1;33m)\u001b[0m\u001b[1;33m\u001b[0m\u001b[1;33m\u001b[0m\u001b[0m\n\u001b[0m\u001b[0;32m    244\u001b[0m \u001b[1;33m\u001b[0m\u001b[0m\n\u001b[0;32m    245\u001b[0m     \u001b[1;32mdef\u001b[0m \u001b[0m_value_or_default\u001b[0m\u001b[1;33m(\u001b[0m\u001b[0mself\u001b[0m\u001b[1;33m,\u001b[0m \u001b[0mobj\u001b[0m\u001b[1;33m:\u001b[0m \u001b[0mMapping\u001b[0m\u001b[1;33m[\u001b[0m\u001b[0m_KT\u001b[0m\u001b[1;33m,\u001b[0m \u001b[0m_VT\u001b[0m\u001b[1;33m]\u001b[0m\u001b[1;33m,\u001b[0m \u001b[0mkey\u001b[0m\u001b[1;33m:\u001b[0m \u001b[0m_KT\u001b[0m\u001b[1;33m,\u001b[0m \u001b[0mdefault\u001b[0m\u001b[1;33m:\u001b[0m \u001b[0m_VT\u001b[0m\u001b[1;33m)\u001b[0m \u001b[1;33m->\u001b[0m \u001b[0m_VT\u001b[0m\u001b[1;33m:\u001b[0m\u001b[1;33m\u001b[0m\u001b[1;33m\u001b[0m\u001b[0m\n",
      "\u001b[1;31mNoSuchWindowException\u001b[0m: Message: no such window: target window already closed\nfrom unknown error: web view not found\n  (Session info: chrome=96.0.4664.45)\nStacktrace:\nBacktrace:\n\tOrdinal0 [0x005C6903+2517251]\n\tOrdinal0 [0x0055F8E1+2095329]\n\tOrdinal0 [0x00462848+1058888]\n\tOrdinal0 [0x0044BF90+966544]\n\tOrdinal0 [0x004A8999+1345945]\n\tOrdinal0 [0x004AC1D6+1360342]\n\tOrdinal0 [0x004A64A7+1336487]\n\tOrdinal0 [0x004827A7+1189799]\n\tOrdinal0 [0x00483609+1193481]\n\tGetHandleVerifier [0x00755904+1577972]\n\tGetHandleVerifier [0x00800B97+2279047]\n\tGetHandleVerifier [0x00656D09+534521]\n\tGetHandleVerifier [0x00655DB9+530601]\n\tOrdinal0 [0x00564FF9+2117625]\n\tOrdinal0 [0x005698A8+2136232]\n\tOrdinal0 [0x005699E2+2136546]\n\tOrdinal0 [0x00573541+2176321]\n\tBaseThreadInitThunk [0x75E66739+25]\n\tRtlGetFullPathName_UEx [0x77CF8AFF+1215]\n\tRtlGetFullPathName_UEx [0x77CF8ACD+1165]\n"
     ]
    }
   ],
   "source": [
    "items = driver.find_elements(By.CLASS_NAME, \"s-result-item\")\n",
    "images = driver.find_elements(By.CLASS_NAME, \"s-image\")\n",
    "book_name = \"Circe\"\n",
    "low_links = []\n",
    "high_links = []\n",
    "low_file_paths = []\n",
    "high_file_paths = []\n",
    "i=0\n",
    "match = 0\n",
    "while True:\n",
    "    if \"Sponsored\" in items[i].text or not book_name.lower() in items[i].text.lower():\n",
    "        i+=1\n",
    "        pass\n",
    "    else:\n",
    "        match+=1\n",
    "        link1 = images[i-1].get_attribute(\"src\")\n",
    "        low_links.append(link1)\n",
    "        print(\"link1:\", link1)\n",
    "        images[i-1].click()\n",
    "        driver.switch_to.window(driver.window_handles[-1])\n",
    "        # time.sleep(1)\n",
    "        try:\n",
    "            driver.find_elements(By.CLASS_NAME, \"thumb-text\")[0].click()\n",
    "            link2 = driver.find_elements(By.ID, \"igImage\")[0].get_attribute(\"src\")\n",
    "            high_links.append(link2)\n",
    "            print(\"link2:\", link2)\n",
    "            print(\"Closing the Extra Window\")\n",
    "            driver.close()\n",
    "            print(\"Switching to the Main Window\")\n",
    "            driver.switch_to.window(driver.window_handles[0])\n",
    "        except:\n",
    "            high_links.append(None)\n",
    "            print(\"Closing the Extra Window\")\n",
    "            driver.close()\n",
    "            print(\"Switching to the Main Window\")\n",
    "            driver.switch_to.window(driver.window_handles[0])"
   ]
  },
  {
   "cell_type": "code",
   "execution_count": 10,
   "metadata": {},
   "outputs": [],
   "source": [
    "book_dict = json.load(open(\"book_dict_links.json\"))"
   ]
  },
  {
   "cell_type": "code",
   "execution_count": 11,
   "metadata": {},
   "outputs": [
    {
     "data": {
      "text/plain": [
       "'c:\\\\Users\\\\harik\\\\Desktop\\\\hari31416.github.io\\\\Projects\\\\Book_Library\\\\Python\\\\img\\\\low\\\\Dune_1_122x218.jpg'"
      ]
     },
     "execution_count": 11,
     "metadata": {},
     "output_type": "execute_result"
    }
   ],
   "source": [
    "book_dict['items'][0]['low_file_paths'][0]"
   ]
  },
  {
   "cell_type": "code",
   "execution_count": 12,
   "metadata": {},
   "outputs": [
    {
     "data": {
      "text/plain": [
       "'img\\\\low\\\\Dune_1_122x218.jpg'"
      ]
     },
     "execution_count": 12,
     "metadata": {},
     "output_type": "execute_result"
    }
   ],
   "source": [
    "os.path.relpath(book_dict['items'][0]['low_file_paths'][0], os.getcwd())"
   ]
  },
  {
   "cell_type": "code",
   "execution_count": null,
   "metadata": {},
   "outputs": [],
   "source": [
    "df = pd.read_csv(\"books_info.csv\")"
   ]
  },
  {
   "cell_type": "code",
   "execution_count": 44,
   "metadata": {},
   "outputs": [],
   "source": []
  },
  {
   "cell_type": "code",
   "execution_count": 65,
   "metadata": {},
   "outputs": [],
   "source": [
    "def convert(value):\n",
    "    if value is None:\n",
    "        pass\n",
    "    else:\n",
    "        return int(value)"
   ]
  },
  {
   "cell_type": "code",
   "execution_count": 68,
   "metadata": {},
   "outputs": [
    {
     "data": {
      "text/plain": [
       "6"
      ]
     },
     "execution_count": 68,
     "metadata": {},
     "output_type": "execute_result"
    }
   ],
   "source": [
    "df[\"Number of Pages\"].isnull().sum()"
   ]
  },
  {
   "cell_type": "code",
   "execution_count": 24,
   "metadata": {},
   "outputs": [
    {
     "data": {
      "text/plain": [
       "'Dusty Phillips'"
      ]
     },
     "execution_count": 24,
     "metadata": {},
     "output_type": "execute_result"
    }
   ],
   "source": [
    "df[df['Title']==\"Python 3 Object Oriented Programming\"]['Author'].values[0]"
   ]
  },
  {
   "cell_type": "code",
   "execution_count": 69,
   "metadata": {},
   "outputs": [],
   "source": [
    "book_dict = {'items':[]}\n",
    "for name in df['Title']:\n",
    "    try:\n",
    "        book_dict['items'].append({\n",
    "            'name': name,\n",
    "            'author': df[df['Title']==name]['Author'].values[0],\n",
    "            'isbn13': int(df[df['Title']==name]['ISBN13'].values[0]),\n",
    "            'publisher': df[df['Title']==name]['Publisher'].values[0],\n",
    "            'avg-rating': df[df['Title']==name]['Average Rating'].values[0],\n",
    "            'num-pages': int(df[df['Title']==name]['Number of Pages'].values[0]),\n",
    "            'publication-year': int(df[df['Title']==name]['Original Publication Year'].values[0]),\n",
    "        })\n",
    "    except ValueError:\n",
    "        pass\n"
   ]
  },
  {
   "cell_type": "code",
   "execution_count": 74,
   "metadata": {},
   "outputs": [
    {
     "data": {
      "text/plain": [
       "316"
      ]
     },
     "execution_count": 74,
     "metadata": {},
     "output_type": "execute_result"
    }
   ],
   "source": [
    "len(book_dict['items'])"
   ]
  },
  {
   "cell_type": "code",
   "execution_count": 72,
   "metadata": {},
   "outputs": [],
   "source": [
    "json.dump(book_dict, open(\"book_dict.json\", \"w\"))"
   ]
  },
  {
   "cell_type": "code",
   "execution_count": null,
   "metadata": {},
   "outputs": [],
   "source": [
    "name = \" =\"1849511268\"\""
   ]
  },
  {
   "cell_type": "code",
   "execution_count": 22,
   "metadata": {},
   "outputs": [],
   "source": [
    "df[\"ISBN\"] = df['ISBN'].apply(lambda x: x.replace(\"\\\"\", \"\").replace(\"=\", \"\"))"
   ]
  },
  {
   "cell_type": "code",
   "execution_count": 25,
   "metadata": {},
   "outputs": [],
   "source": [
    "df[\"ISBN13\"]=df['ISBN13'].apply(lambda x: x.replace(\"\\\"\", \"\").replace(\"=\", \"\"))"
   ]
  },
  {
   "cell_type": "code",
   "execution_count": null,
   "metadata": {},
   "outputs": [],
   "source": [
    "df.to"
   ]
  },
  {
   "cell_type": "code",
   "execution_count": 34,
   "metadata": {},
   "outputs": [
    {
     "data": {
      "text/plain": [
       "Index(['Book Id', 'Title', 'Author', 'Author l-f', 'Additional Authors',\n",
       "       'ISBN', 'ISBN13', 'My Rating', 'Average Rating', 'Publisher', 'Binding',\n",
       "       'Number of Pages', 'Year Published', 'Original Publication Year',\n",
       "       'Date Read', 'Date Added', 'Bookshelves', 'Bookshelves with positions',\n",
       "       'Exclusive Shelf', 'My Review', 'Spoiler', 'Private Notes',\n",
       "       'Read Count', 'Recommended For', 'Recommended By', 'Owned Copies',\n",
       "       'Original Purchase Date', 'Original Purchase Location', 'Condition',\n",
       "       'Condition Description', 'BCID'],\n",
       "      dtype='object')"
      ]
     },
     "execution_count": 34,
     "metadata": {},
     "output_type": "execute_result"
    }
   ],
   "source": [
    "df.columns"
   ]
  },
  {
   "cell_type": "code",
   "execution_count": 40,
   "metadata": {},
   "outputs": [],
   "source": [
    "df[['Book Id', 'Title', 'Author', 'Author l-f', 'Additional Authors',\n",
    "       'ISBN', 'ISBN13', 'My Rating', 'Average Rating', 'Publisher', 'Binding',\n",
    "       'Number of Pages', 'Year Published', 'Original Publication Year']].to_csv(\"books_info.csv\", index=False)"
   ]
  },
  {
   "cell_type": "code",
   "execution_count": null,
   "metadata": {},
   "outputs": [],
   "source": []
  },
  {
   "cell_type": "markdown",
   "metadata": {},
   "source": []
  },
  {
   "cell_type": "code",
   "execution_count": null,
   "metadata": {},
   "outputs": [],
   "source": []
  }
 ],
 "metadata": {
  "interpreter": {
   "hash": "ce44b17c45080b8f56a19c9450d52461d624c968fcd959bb1916985c5ffa2b94"
  },
  "kernelspec": {
   "display_name": "Python 3.8.5 64-bit ('base': conda)",
   "language": "python",
   "name": "python3"
  },
  "language_info": {
   "codemirror_mode": {
    "name": "ipython",
    "version": 3
   },
   "file_extension": ".py",
   "mimetype": "text/x-python",
   "name": "python",
   "nbconvert_exporter": "python",
   "pygments_lexer": "ipython3",
   "version": "3.8.5"
  },
  "orig_nbformat": 4
 },
 "nbformat": 4,
 "nbformat_minor": 2
}
