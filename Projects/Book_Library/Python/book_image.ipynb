{
 "cells": [
  {
   "cell_type": "code",
   "execution_count": 1,
   "metadata": {},
   "outputs": [],
   "source": [
    "import webdriver_manager\n",
    "from selenium.webdriver.common.by import By\n",
    "from selenium.webdriver.common.keys import Keys\n",
    "from selenium import webdriver\n",
    "from webdriver_manager.chrome import ChromeDriverManager\n",
    "from webdriver_manager.firefox import GeckoDriverManager\n",
    "from IPython.display import clear_output\n",
    "import time\n",
    "import pandas as pd\n",
    "import requests\n",
    "from PIL import Image\n",
    "from io import BytesIO\n",
    "import os"
   ]
  },
  {
   "cell_type": "code",
   "execution_count": 2,
   "metadata": {},
   "outputs": [
    {
     "name": "stderr",
     "output_type": "stream",
     "text": [
      "\n",
      "\n",
      "====== WebDriver manager ======\n",
      "Current google-chrome version is 96.0.4664\n",
      "Get LATEST chromedriver version for 96.0.4664 google-chrome\n",
      "Driver [C:\\Users\\harik\\.wdm\\drivers\\chromedriver\\win32\\96.0.4664.45\\chromedriver.exe] found in cache\n",
      "<ipython-input-2-a9184be2b85f>:2: DeprecationWarning: executable_path has been deprecated, please pass in a Service object\n",
      "  driver = webdriver.Chrome(ChromeDriverManager().install())\n"
     ]
    }
   ],
   "source": [
    "#Open ChromeDriver\n",
    "driver = webdriver.Chrome(ChromeDriverManager().install())\n",
    "# driver.get(\"https://www.amazon.in/s?k=Dune&i=stripbooks\")"
   ]
  },
  {
   "cell_type": "markdown",
   "metadata": {},
   "source": [
    "## Low and High Resolution Book Image"
   ]
  },
  {
   "cell_type": "code",
   "execution_count": 11,
   "metadata": {},
   "outputs": [],
   "source": [
    "def download_image(book_name, author=\"\", num_images=5):\n",
    "    \n",
    "    query = book_name + \" \" + author\n",
    "    page_url = f\"https://www.amazon.in/s?k={query.strip()}&i=stripbooks\"\n",
    "    print(\"Searching for:\", query)\n",
    "    driver.get(page_url)\n",
    "    print(\"Done!\")\n",
    "    items = driver.find_elements(By.CLASS_NAME, \"s-result-item\")\n",
    "    images = driver.find_elements(By.CLASS_NAME, \"s-image\")\n",
    "\n",
    "    i=0\n",
    "    match = 0\n",
    "    while True:\n",
    "        if \"Sponsored\" in items[i].text or not book_name.lower() in items[i].text.lower():\n",
    "            i+=1\n",
    "            pass\n",
    "        else:\n",
    "            match+=1\n",
    "            link1 = images[i-1].get_attribute(\"src\")\n",
    "            print(\"link1:\", link1)\n",
    "            images[i-1].click()\n",
    "            driver.switch_to.window(driver.window_handles[-1])\n",
    "            # time.sleep(1)\n",
    "            try:\n",
    "                driver.find_elements(By.CLASS_NAME, \"thumb-text\")[0].click()\n",
    "                link2 = driver.find_elements(By.ID, \"igImage\")[0].get_attribute(\"src\")\n",
    "                print(\"link2:\", link2)\n",
    "                print(\"Closing the Extra Window\")\n",
    "                driver.close()\n",
    "                print(\"Switching to the Main Window\")\n",
    "                driver.switch_to.window(driver.window_handles[0])\n",
    "            except:\n",
    "                print(\"Closing the Extra Window\")\n",
    "                driver.close()\n",
    "                print(\"Switching to the Main Window\")\n",
    "                driver.switch_to.window(driver.window_handles[0])\n",
    "                \n",
    "            #Save images using link\n",
    "            response = requests.get(link1)\n",
    "            img = Image.open(BytesIO(response.content))\n",
    "            w, h = img.size\n",
    "            print(f\"Image shape is {w}x{h}\")\n",
    "            img_path = os.path.join(os.getcwd(), \"img\")\n",
    "            file_name_low = f\"{book_name}_{match}_{w}x{h}.jpg\"\n",
    "            img.save(os.path.join(img_path, \"low\", file_name_low))\n",
    "\n",
    "            #Higher resolution\n",
    "            response = requests.get(link2)\n",
    "            img2 = Image.open(BytesIO(response.content))\n",
    "            w, h = img2.size\n",
    "            print(f\"Image shape of higher resultion is {w}x{h}\")\n",
    "            file_name_high = f\"h_{book_name}_{match}_{w}x{h}.jpg\"\n",
    "            img2.save(os.path.join(img_path, \"high\", file_name_high))\n",
    "            i+=1\n",
    "            clear_output()\n",
    "        if match==num_images or i==10:\n",
    "            break\n",
    "    "
   ]
  },
  {
   "cell_type": "code",
   "execution_count": 12,
   "metadata": {},
   "outputs": [],
   "source": [
    "download_image(\"Emma\", \"Jane Austen\", num_images=3)\n"
   ]
  },
  {
   "cell_type": "markdown",
   "metadata": {},
   "source": [
    "## Other Features"
   ]
  },
  {
   "cell_type": "code",
   "execution_count": 13,
   "metadata": {},
   "outputs": [
    {
     "data": {
      "text/plain": [
       "'c:\\\\Users\\\\harik\\\\Desktop\\\\hari31416.github.io\\\\Projects\\\\Book_Library\\\\Python'"
      ]
     },
     "execution_count": 13,
     "metadata": {},
     "output_type": "execute_result"
    }
   ],
   "source": [
    "cd "
   ]
  },
  {
   "cell_type": "code",
   "execution_count": 15,
   "metadata": {},
   "outputs": [],
   "source": [
    "df = pd.read_csv(\"goodreads_library_export.csv\")"
   ]
  },
  {
   "cell_type": "code",
   "execution_count": null,
   "metadata": {},
   "outputs": [],
   "source": [
    "name = \" =\"1849511268\"\""
   ]
  },
  {
   "cell_type": "code",
   "execution_count": 22,
   "metadata": {},
   "outputs": [],
   "source": [
    "df[\"ISBN\"] = df['ISBN'].apply(lambda x: x.replace(\"\\\"\", \"\").replace(\"=\", \"\"))"
   ]
  },
  {
   "cell_type": "code",
   "execution_count": 25,
   "metadata": {},
   "outputs": [],
   "source": [
    "df[\"ISBN13\"]=df['ISBN13'].apply(lambda x: x.replace(\"\\\"\", \"\").replace(\"=\", \"\"))"
   ]
  },
  {
   "cell_type": "code",
   "execution_count": null,
   "metadata": {},
   "outputs": [],
   "source": [
    "df.to"
   ]
  },
  {
   "cell_type": "code",
   "execution_count": 34,
   "metadata": {},
   "outputs": [
    {
     "data": {
      "text/plain": [
       "Index(['Book Id', 'Title', 'Author', 'Author l-f', 'Additional Authors',\n",
       "       'ISBN', 'ISBN13', 'My Rating', 'Average Rating', 'Publisher', 'Binding',\n",
       "       'Number of Pages', 'Year Published', 'Original Publication Year',\n",
       "       'Date Read', 'Date Added', 'Bookshelves', 'Bookshelves with positions',\n",
       "       'Exclusive Shelf', 'My Review', 'Spoiler', 'Private Notes',\n",
       "       'Read Count', 'Recommended For', 'Recommended By', 'Owned Copies',\n",
       "       'Original Purchase Date', 'Original Purchase Location', 'Condition',\n",
       "       'Condition Description', 'BCID'],\n",
       "      dtype='object')"
      ]
     },
     "execution_count": 34,
     "metadata": {},
     "output_type": "execute_result"
    }
   ],
   "source": [
    "df.columns"
   ]
  },
  {
   "cell_type": "code",
   "execution_count": 40,
   "metadata": {},
   "outputs": [],
   "source": [
    "df[['Book Id', 'Title', 'Author', 'Author l-f', 'Additional Authors',\n",
    "       'ISBN', 'ISBN13', 'My Rating', 'Average Rating', 'Publisher', 'Binding',\n",
    "       'Number of Pages', 'Year Published', 'Original Publication Year']].to_csv(\"books_info.csv\", index=False)"
   ]
  },
  {
   "cell_type": "code",
   "execution_count": null,
   "metadata": {},
   "outputs": [],
   "source": []
  },
  {
   "cell_type": "markdown",
   "metadata": {},
   "source": []
  },
  {
   "cell_type": "code",
   "execution_count": null,
   "metadata": {},
   "outputs": [],
   "source": []
  }
 ],
 "metadata": {
  "interpreter": {
   "hash": "ce44b17c45080b8f56a19c9450d52461d624c968fcd959bb1916985c5ffa2b94"
  },
  "kernelspec": {
   "display_name": "Python 3.8.5 64-bit ('base': conda)",
   "language": "python",
   "name": "python3"
  },
  "language_info": {
   "codemirror_mode": {
    "name": "ipython",
    "version": 3
   },
   "file_extension": ".py",
   "mimetype": "text/x-python",
   "name": "python",
   "nbconvert_exporter": "python",
   "pygments_lexer": "ipython3",
   "version": "3.8.5"
  },
  "orig_nbformat": 4
 },
 "nbformat": 4,
 "nbformat_minor": 2
}
